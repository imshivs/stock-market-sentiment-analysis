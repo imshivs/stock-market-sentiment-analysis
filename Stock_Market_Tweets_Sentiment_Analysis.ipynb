{
  "nbformat": 4,
  "nbformat_minor": 0,
  "metadata": {
    "colab": {
      "provenance": [],
      "authorship_tag": "ABX9TyP9kiZXdIJiZoGwW/0mJj5I",
      "include_colab_link": true
    },
    "kernelspec": {
      "name": "python3",
      "display_name": "Python 3"
    },
    "language_info": {
      "name": "python"
    }
  },
  "cells": [
    {
      "cell_type": "markdown",
      "metadata": {
        "id": "view-in-github",
        "colab_type": "text"
      },
      "source": [
        "<a href=\"https://colab.research.google.com/github/imshivs/stock-market-sentiment-analysis/blob/main/Stock_Market_Tweets_Sentiment_Analysis.ipynb\" target=\"_parent\"><img src=\"https://colab.research.google.com/assets/colab-badge.svg\" alt=\"Open In Colab\"/></a>"
      ]
    },
    {
      "cell_type": "markdown",
      "source": [
        "# Stock Market Tweets Sentiment Analysis\n",
        "Investing has become more accessible to retailer investors in recent years, so it has become more important to understand social sentiment towards businesses and tradable financial assets. The goal of this project is to correctly classify financial tweets as \"positive\", \"negative\", or \"neutral\". We are not looking to see if these sentiments drove historical changes in stock price. However, it would also be interesting to include stock price data or other economic variables such as interest rates in this type of analysis in the future."
      ],
      "metadata": {
        "id": "yIMG6POaIbIB"
      }
    },
    {
      "cell_type": "code",
      "execution_count": 238,
      "metadata": {
        "colab": {
          "base_uri": "https://localhost:8080/"
        },
        "id": "t9EEacRQSo7K",
        "outputId": "272fafc8-80fe-46a9-8c2c-a7ad88d427f0"
      },
      "outputs": [
        {
          "output_type": "stream",
          "name": "stdout",
          "text": [
            "Drive already mounted at /content/drive; to attempt to forcibly remount, call drive.mount(\"/content/drive\", force_remount=True).\n"
          ]
        }
      ],
      "source": [
        "import pandas as pd\n",
        "import numpy as np\n",
        "import gensim\n",
        "from tensorflow import keras\n",
        "from keras.models import Sequential\n",
        "from keras.layers import Dropout, Activation, Dense\n",
        "from sklearn.preprocessing import LabelEncoder\n",
        "from google.colab import drive\n",
        "from nltk.tokenize.toktok import ToktokTokenizer\n",
        "from keras.wrappers.scikit_learn import KerasClassifier\n",
        "from keras.utils import to_categorical\n",
        "import nltk\n",
        "from nltk.corpus import stopwords\n",
        "from sklearn import metrics\n",
        "from sklearn.metrics import classification_report, confusion_matrix\n",
        "import itertools\n",
        "import matplotlib.pyplot as plt\n",
        "stop = stopwords.words('english')\n",
        "stop = r'\\b(?:{})\\b'.format('|'.join(stop))\n",
        "drive.mount('/content/drive')"
      ]
    },
    {
      "cell_type": "markdown",
      "source": [
        "## Data Import & Cleaning\n",
        "These are the stop words we will use to remove words we don't want feed to our model. Urls and stop words will be removed from text before tokenization and feature reduction steps."
      ],
      "metadata": {
        "id": "ajTQsukuH9Vh"
      }
    },
    {
      "cell_type": "code",
      "source": [
        "stop"
      ],
      "metadata": {
        "colab": {
          "base_uri": "https://localhost:8080/",
          "height": 182
        },
        "id": "JEzarNeH48HA",
        "outputId": "de41a1ba-b365-4cbf-c2e2-5ea3a8960955"
      },
      "execution_count": 239,
      "outputs": [
        {
          "output_type": "execute_result",
          "data": {
            "text/plain": [
              "\"\\\\b(?:i|me|my|myself|we|our|ours|ourselves|you|you're|you've|you'll|you'd|your|yours|yourself|yourselves|he|him|his|himself|she|she's|her|hers|herself|it|it's|its|itself|they|them|their|theirs|themselves|what|which|who|whom|this|that|that'll|these|those|am|is|are|was|were|be|been|being|have|has|had|having|do|does|did|doing|a|an|the|and|but|if|or|because|as|until|while|of|at|by|for|with|about|against|between|into|through|during|before|after|above|below|to|from|up|down|in|out|on|off|over|under|again|further|then|once|here|there|when|where|why|how|all|any|both|each|few|more|most|other|some|such|no|nor|not|only|own|same|so|than|too|very|s|t|can|will|just|don|don't|should|should've|now|d|ll|m|o|re|ve|y|ain|aren|aren't|couldn|couldn't|didn|didn't|doesn|doesn't|hadn|hadn't|hasn|hasn't|haven|haven't|isn|isn't|ma|mightn|mightn't|mustn|mustn't|needn|needn't|shan|shan't|shouldn|shouldn't|wasn|wasn't|weren|weren't|won|won't|wouldn|wouldn't)\\\\b\""
            ],
            "application/vnd.google.colaboratory.intrinsic+json": {
              "type": "string"
            }
          },
          "metadata": {},
          "execution_count": 239
        }
      ]
    },
    {
      "cell_type": "markdown",
      "source": [
        "I started with a pre-labeled twitter sentiment datset I found on Kaggle, but the predictions using keras weren't very strong for this dataset (40-50% accuracy). This may have been becase the dataset is so small, only 1300 tweets. I decided to look for larger twitter stock-related datastes.\n",
        "\n",
        "Data source: https://www.kaggle.com/datasets/utkarshxy/stock-markettweets-lexicon-data"
      ],
      "metadata": {
        "id": "3Xx7j1PHHdLt"
      }
    },
    {
      "cell_type": "code",
      "source": [
        "data1 = pd.DataFrame(pd.read_csv(\"/content/drive/MyDrive/Colab Notebooks/tweets_labelled_09042020_16072020.csv\", sep=';', header=0))\n",
        "data1 = data1[[\"text\",\"sentiment\"]]\n",
        "data1 = data1[data1[\"sentiment\"].notna()]\n",
        "data1['text'] = data1['text'].str.replace('http\\S+|www.\\S+', '', case=False)\n",
        "data1['text'] = data1['text'].str.replace(stop, '')\n",
        "data1['text'] = data1['text'].str.replace(r'\\s+', ' ')\n",
        "data1"
      ],
      "metadata": {
        "colab": {
          "base_uri": "https://localhost:8080/",
          "height": 553
        },
        "id": "YacrCthKOwCJ",
        "outputId": "4933c49f-775c-4a11-f910-8cf3f9d5a6ff"
      },
      "execution_count": 240,
      "outputs": [
        {
          "output_type": "stream",
          "name": "stderr",
          "text": [
            "<ipython-input-240-f52e49287e13>:4: FutureWarning: The default value of regex will change from True to False in a future version.\n",
            "  data1['text'] = data1['text'].str.replace('http\\S+|www.\\S+', '', case=False)\n",
            "<ipython-input-240-f52e49287e13>:5: FutureWarning: The default value of regex will change from True to False in a future version.\n",
            "  data1['text'] = data1['text'].str.replace(stop, '')\n",
            "<ipython-input-240-f52e49287e13>:6: FutureWarning: The default value of regex will change from True to False in a future version.\n",
            "  data1['text'] = data1['text'].str.replace(r'\\s+', ' ')\n"
          ]
        },
        {
          "output_type": "execute_result",
          "data": {
            "text/plain": [
              "                                                   text sentiment\n",
              "0     RT @RobertBeadles: Yo💥 Enter WIN 1,000 Monarch...  positive\n",
              "1     #SriLanka surcharge fuel removed! ⛽📉 The surch...  negative\n",
              "2     Net issuance increases fund fiscal programs &g...  positive\n",
              "3     RT @bentboolean: How much Amazon' traffic serv...  positive\n",
              "4     $AMD Ryzen 4000 desktop CPUs looking ‘great’ t...  positive\n",
              "...                                                 ...       ...\n",
              "1295  #stocks back recovery room: Fair value: 57€ Fa...  positive\n",
              "1296  RT @MacroCharts: Breadth – expanding last week...  positive\n",
              "1297  RT @MawsonResource: Rompas-Rajapalot: A Big Ne...   neutral\n",
              "1298                              $AAPL $QQQ Top may .   positive\n",
              "1299  GLG Partners LP short position HILTON FOOD GRO...  negative\n",
              "\n",
              "[1300 rows x 2 columns]"
            ],
            "text/html": [
              "\n",
              "  <div id=\"df-01c3bfb7-a528-4eaf-9290-3959be5ad82d\">\n",
              "    <div class=\"colab-df-container\">\n",
              "      <div>\n",
              "<style scoped>\n",
              "    .dataframe tbody tr th:only-of-type {\n",
              "        vertical-align: middle;\n",
              "    }\n",
              "\n",
              "    .dataframe tbody tr th {\n",
              "        vertical-align: top;\n",
              "    }\n",
              "\n",
              "    .dataframe thead th {\n",
              "        text-align: right;\n",
              "    }\n",
              "</style>\n",
              "<table border=\"1\" class=\"dataframe\">\n",
              "  <thead>\n",
              "    <tr style=\"text-align: right;\">\n",
              "      <th></th>\n",
              "      <th>text</th>\n",
              "      <th>sentiment</th>\n",
              "    </tr>\n",
              "  </thead>\n",
              "  <tbody>\n",
              "    <tr>\n",
              "      <th>0</th>\n",
              "      <td>RT @RobertBeadles: Yo💥 Enter WIN 1,000 Monarch...</td>\n",
              "      <td>positive</td>\n",
              "    </tr>\n",
              "    <tr>\n",
              "      <th>1</th>\n",
              "      <td>#SriLanka surcharge fuel removed! ⛽📉 The surch...</td>\n",
              "      <td>negative</td>\n",
              "    </tr>\n",
              "    <tr>\n",
              "      <th>2</th>\n",
              "      <td>Net issuance increases fund fiscal programs &amp;g...</td>\n",
              "      <td>positive</td>\n",
              "    </tr>\n",
              "    <tr>\n",
              "      <th>3</th>\n",
              "      <td>RT @bentboolean: How much Amazon' traffic serv...</td>\n",
              "      <td>positive</td>\n",
              "    </tr>\n",
              "    <tr>\n",
              "      <th>4</th>\n",
              "      <td>$AMD Ryzen 4000 desktop CPUs looking ‘great’ t...</td>\n",
              "      <td>positive</td>\n",
              "    </tr>\n",
              "    <tr>\n",
              "      <th>...</th>\n",
              "      <td>...</td>\n",
              "      <td>...</td>\n",
              "    </tr>\n",
              "    <tr>\n",
              "      <th>1295</th>\n",
              "      <td>#stocks back recovery room: Fair value: 57€ Fa...</td>\n",
              "      <td>positive</td>\n",
              "    </tr>\n",
              "    <tr>\n",
              "      <th>1296</th>\n",
              "      <td>RT @MacroCharts: Breadth – expanding last week...</td>\n",
              "      <td>positive</td>\n",
              "    </tr>\n",
              "    <tr>\n",
              "      <th>1297</th>\n",
              "      <td>RT @MawsonResource: Rompas-Rajapalot: A Big Ne...</td>\n",
              "      <td>neutral</td>\n",
              "    </tr>\n",
              "    <tr>\n",
              "      <th>1298</th>\n",
              "      <td>$AAPL $QQQ Top may .</td>\n",
              "      <td>positive</td>\n",
              "    </tr>\n",
              "    <tr>\n",
              "      <th>1299</th>\n",
              "      <td>GLG Partners LP short position HILTON FOOD GRO...</td>\n",
              "      <td>negative</td>\n",
              "    </tr>\n",
              "  </tbody>\n",
              "</table>\n",
              "<p>1300 rows × 2 columns</p>\n",
              "</div>\n",
              "      <button class=\"colab-df-convert\" onclick=\"convertToInteractive('df-01c3bfb7-a528-4eaf-9290-3959be5ad82d')\"\n",
              "              title=\"Convert this dataframe to an interactive table.\"\n",
              "              style=\"display:none;\">\n",
              "        \n",
              "  <svg xmlns=\"http://www.w3.org/2000/svg\" height=\"24px\"viewBox=\"0 0 24 24\"\n",
              "       width=\"24px\">\n",
              "    <path d=\"M0 0h24v24H0V0z\" fill=\"none\"/>\n",
              "    <path d=\"M18.56 5.44l.94 2.06.94-2.06 2.06-.94-2.06-.94-.94-2.06-.94 2.06-2.06.94zm-11 1L8.5 8.5l.94-2.06 2.06-.94-2.06-.94L8.5 2.5l-.94 2.06-2.06.94zm10 10l.94 2.06.94-2.06 2.06-.94-2.06-.94-.94-2.06-.94 2.06-2.06.94z\"/><path d=\"M17.41 7.96l-1.37-1.37c-.4-.4-.92-.59-1.43-.59-.52 0-1.04.2-1.43.59L10.3 9.45l-7.72 7.72c-.78.78-.78 2.05 0 2.83L4 21.41c.39.39.9.59 1.41.59.51 0 1.02-.2 1.41-.59l7.78-7.78 2.81-2.81c.8-.78.8-2.07 0-2.86zM5.41 20L4 18.59l7.72-7.72 1.47 1.35L5.41 20z\"/>\n",
              "  </svg>\n",
              "      </button>\n",
              "      \n",
              "  <style>\n",
              "    .colab-df-container {\n",
              "      display:flex;\n",
              "      flex-wrap:wrap;\n",
              "      gap: 12px;\n",
              "    }\n",
              "\n",
              "    .colab-df-convert {\n",
              "      background-color: #E8F0FE;\n",
              "      border: none;\n",
              "      border-radius: 50%;\n",
              "      cursor: pointer;\n",
              "      display: none;\n",
              "      fill: #1967D2;\n",
              "      height: 32px;\n",
              "      padding: 0 0 0 0;\n",
              "      width: 32px;\n",
              "    }\n",
              "\n",
              "    .colab-df-convert:hover {\n",
              "      background-color: #E2EBFA;\n",
              "      box-shadow: 0px 1px 2px rgba(60, 64, 67, 0.3), 0px 1px 3px 1px rgba(60, 64, 67, 0.15);\n",
              "      fill: #174EA6;\n",
              "    }\n",
              "\n",
              "    [theme=dark] .colab-df-convert {\n",
              "      background-color: #3B4455;\n",
              "      fill: #D2E3FC;\n",
              "    }\n",
              "\n",
              "    [theme=dark] .colab-df-convert:hover {\n",
              "      background-color: #434B5C;\n",
              "      box-shadow: 0px 1px 3px 1px rgba(0, 0, 0, 0.15);\n",
              "      filter: drop-shadow(0px 1px 2px rgba(0, 0, 0, 0.3));\n",
              "      fill: #FFFFFF;\n",
              "    }\n",
              "  </style>\n",
              "\n",
              "      <script>\n",
              "        const buttonEl =\n",
              "          document.querySelector('#df-01c3bfb7-a528-4eaf-9290-3959be5ad82d button.colab-df-convert');\n",
              "        buttonEl.style.display =\n",
              "          google.colab.kernel.accessAllowed ? 'block' : 'none';\n",
              "\n",
              "        async function convertToInteractive(key) {\n",
              "          const element = document.querySelector('#df-01c3bfb7-a528-4eaf-9290-3959be5ad82d');\n",
              "          const dataTable =\n",
              "            await google.colab.kernel.invokeFunction('convertToInteractive',\n",
              "                                                     [key], {});\n",
              "          if (!dataTable) return;\n",
              "\n",
              "          const docLinkHtml = 'Like what you see? Visit the ' +\n",
              "            '<a target=\"_blank\" href=https://colab.research.google.com/notebooks/data_table.ipynb>data table notebook</a>'\n",
              "            + ' to learn more about interactive tables.';\n",
              "          element.innerHTML = '';\n",
              "          dataTable['output_type'] = 'display_data';\n",
              "          await google.colab.output.renderOutput(dataTable, element);\n",
              "          const docLink = document.createElement('div');\n",
              "          docLink.innerHTML = docLinkHtml;\n",
              "          element.appendChild(docLink);\n",
              "        }\n",
              "      </script>\n",
              "    </div>\n",
              "  </div>\n",
              "  "
            ]
          },
          "metadata": {},
          "execution_count": 240
        }
      ]
    },
    {
      "cell_type": "markdown",
      "source": [
        "The data was collected using the Twitter API. The repository author explains, \"The dataset encompasses tweets from various Twitter sources ranging from established media companies such as Bloomberg and CNBC to private traders Antonio Costa (@ACInvestorBlog) and Gnotz (Bull) (@BullTradeFinder) to get a range of different tweets and enough language heterogeneity for models to be able to successfully handle differing syntax\".\n",
        "\n",
        "The author used this dataset in a project using sparse transformer technique to classify tweets and is able to get 87.5% sentiment analysis accuracy using this method (https://neuralmagic.com/blog/classifying-finance-tweets-in-real-time-with-sparse-transformers/). I am not following his tutorial, and instead building simple neural network for this multi-class classification problem.\n",
        "\n",
        "The sentiments were labeled based on the following mapping prior to my recoding:\n",
        "\n",
        "sentiments = {\n",
        "    \"LABEL_0\": \"Bearish\",\n",
        "    \"LABEL_1\": \"Bullish\",\n",
        "    \"LABEL_2\": \"Neutral\"\n",
        "}\n",
        "\n",
        "Data source: https://huggingface.co/datasets/zeroshot/twitter-financial-news-sentiment"
      ],
      "metadata": {
        "id": "mD8hLjjdI67j"
      }
    },
    {
      "cell_type": "code",
      "source": [
        "def my_recode(sentiment):\n",
        "    if sentiment == 0:\n",
        "        return \"negative\"\n",
        "    if sentiment == 1:\n",
        "        return \"positive\"\n",
        "    else:\n",
        "        return \"neutral\"\n",
        "\n",
        "data2 = pd.DataFrame(pd.read_csv(\"/content/drive/MyDrive/Colab Notebooks/twitter-financial-news-sentiment_1.csv\", header=0))\n",
        "data3 = pd.DataFrame(pd.read_csv(\"/content/drive/MyDrive/Colab Notebooks/twitter-financial-news-sentiment_2.csv\", header=0))\n",
        "data4 = pd.concat([data2,data3])\n",
        "data4['label'] = data4['label'].apply(my_recode)\n",
        "#remove urls from text\n",
        "data4['text'] = data4['text'].str.replace('http\\S+|www.\\S+', '', case=False)\n",
        "#remove stop words from text\n",
        "data4['text'] = data4['text'].str.replace(stop, '')\n",
        "data4['text'] = data4['text'].str.replace(r'\\s+', ' ')\n",
        "data4 = data4.rename(columns={'text': 'text', 'label': 'sentiment'})\n",
        "data = pd.concat([data1,data4])\n",
        "data = data4\n",
        "data"
      ],
      "metadata": {
        "colab": {
          "base_uri": "https://localhost:8080/",
          "height": 553
        },
        "id": "gSfCApPcU6EP",
        "outputId": "e2ee9a80-2fe5-4ff8-b82f-71ac35d3edc8"
      },
      "execution_count": 241,
      "outputs": [
        {
          "output_type": "stream",
          "name": "stderr",
          "text": [
            "<ipython-input-241-b72075fb9a8b>:14: FutureWarning: The default value of regex will change from True to False in a future version.\n",
            "  data4['text'] = data4['text'].str.replace('http\\S+|www.\\S+', '', case=False)\n",
            "<ipython-input-241-b72075fb9a8b>:16: FutureWarning: The default value of regex will change from True to False in a future version.\n",
            "  data4['text'] = data4['text'].str.replace(stop, '')\n",
            "<ipython-input-241-b72075fb9a8b>:17: FutureWarning: The default value of regex will change from True to False in a future version.\n",
            "  data4['text'] = data4['text'].str.replace(r'\\s+', ' ')\n"
          ]
        },
        {
          "output_type": "execute_result",
          "data": {
            "text/plain": [
              "                                                   text sentiment\n",
              "0      $BYND - JPMorgan reels expectations Beyond Meat   negative\n",
              "1     $CCL $RCL - Nomura points bookings weakness Ca...  negative\n",
              "2     $CX - Cemex cut Credit Suisse, J.P. Morgan wea...  negative\n",
              "3                     $ESS: BTIG Research cuts Neutral   negative\n",
              "4            $FNKO - Funko slides Piper Jaffray PT cut   negative\n",
              "...                                                 ...       ...\n",
              "2383  Stocks making biggest moves midday: TD Ameritr...   neutral\n",
              "2384  Stocks making biggest moves premarket: Fitbit,...   neutral\n",
              "2385  Stocks making biggest moves premarket: Home De...   neutral\n",
              "2386  Stocks making biggest moves premarket: TD Amer...   neutral\n",
              "2387             TCO, NNVC, GPOR JE among midday movers   neutral\n",
              "\n",
              "[11931 rows x 2 columns]"
            ],
            "text/html": [
              "\n",
              "  <div id=\"df-5ee746a6-320e-497b-a561-bf927c08f5a7\">\n",
              "    <div class=\"colab-df-container\">\n",
              "      <div>\n",
              "<style scoped>\n",
              "    .dataframe tbody tr th:only-of-type {\n",
              "        vertical-align: middle;\n",
              "    }\n",
              "\n",
              "    .dataframe tbody tr th {\n",
              "        vertical-align: top;\n",
              "    }\n",
              "\n",
              "    .dataframe thead th {\n",
              "        text-align: right;\n",
              "    }\n",
              "</style>\n",
              "<table border=\"1\" class=\"dataframe\">\n",
              "  <thead>\n",
              "    <tr style=\"text-align: right;\">\n",
              "      <th></th>\n",
              "      <th>text</th>\n",
              "      <th>sentiment</th>\n",
              "    </tr>\n",
              "  </thead>\n",
              "  <tbody>\n",
              "    <tr>\n",
              "      <th>0</th>\n",
              "      <td>$BYND - JPMorgan reels expectations Beyond Meat</td>\n",
              "      <td>negative</td>\n",
              "    </tr>\n",
              "    <tr>\n",
              "      <th>1</th>\n",
              "      <td>$CCL $RCL - Nomura points bookings weakness Ca...</td>\n",
              "      <td>negative</td>\n",
              "    </tr>\n",
              "    <tr>\n",
              "      <th>2</th>\n",
              "      <td>$CX - Cemex cut Credit Suisse, J.P. Morgan wea...</td>\n",
              "      <td>negative</td>\n",
              "    </tr>\n",
              "    <tr>\n",
              "      <th>3</th>\n",
              "      <td>$ESS: BTIG Research cuts Neutral</td>\n",
              "      <td>negative</td>\n",
              "    </tr>\n",
              "    <tr>\n",
              "      <th>4</th>\n",
              "      <td>$FNKO - Funko slides Piper Jaffray PT cut</td>\n",
              "      <td>negative</td>\n",
              "    </tr>\n",
              "    <tr>\n",
              "      <th>...</th>\n",
              "      <td>...</td>\n",
              "      <td>...</td>\n",
              "    </tr>\n",
              "    <tr>\n",
              "      <th>2383</th>\n",
              "      <td>Stocks making biggest moves midday: TD Ameritr...</td>\n",
              "      <td>neutral</td>\n",
              "    </tr>\n",
              "    <tr>\n",
              "      <th>2384</th>\n",
              "      <td>Stocks making biggest moves premarket: Fitbit,...</td>\n",
              "      <td>neutral</td>\n",
              "    </tr>\n",
              "    <tr>\n",
              "      <th>2385</th>\n",
              "      <td>Stocks making biggest moves premarket: Home De...</td>\n",
              "      <td>neutral</td>\n",
              "    </tr>\n",
              "    <tr>\n",
              "      <th>2386</th>\n",
              "      <td>Stocks making biggest moves premarket: TD Amer...</td>\n",
              "      <td>neutral</td>\n",
              "    </tr>\n",
              "    <tr>\n",
              "      <th>2387</th>\n",
              "      <td>TCO, NNVC, GPOR JE among midday movers</td>\n",
              "      <td>neutral</td>\n",
              "    </tr>\n",
              "  </tbody>\n",
              "</table>\n",
              "<p>11931 rows × 2 columns</p>\n",
              "</div>\n",
              "      <button class=\"colab-df-convert\" onclick=\"convertToInteractive('df-5ee746a6-320e-497b-a561-bf927c08f5a7')\"\n",
              "              title=\"Convert this dataframe to an interactive table.\"\n",
              "              style=\"display:none;\">\n",
              "        \n",
              "  <svg xmlns=\"http://www.w3.org/2000/svg\" height=\"24px\"viewBox=\"0 0 24 24\"\n",
              "       width=\"24px\">\n",
              "    <path d=\"M0 0h24v24H0V0z\" fill=\"none\"/>\n",
              "    <path d=\"M18.56 5.44l.94 2.06.94-2.06 2.06-.94-2.06-.94-.94-2.06-.94 2.06-2.06.94zm-11 1L8.5 8.5l.94-2.06 2.06-.94-2.06-.94L8.5 2.5l-.94 2.06-2.06.94zm10 10l.94 2.06.94-2.06 2.06-.94-2.06-.94-.94-2.06-.94 2.06-2.06.94z\"/><path d=\"M17.41 7.96l-1.37-1.37c-.4-.4-.92-.59-1.43-.59-.52 0-1.04.2-1.43.59L10.3 9.45l-7.72 7.72c-.78.78-.78 2.05 0 2.83L4 21.41c.39.39.9.59 1.41.59.51 0 1.02-.2 1.41-.59l7.78-7.78 2.81-2.81c.8-.78.8-2.07 0-2.86zM5.41 20L4 18.59l7.72-7.72 1.47 1.35L5.41 20z\"/>\n",
              "  </svg>\n",
              "      </button>\n",
              "      \n",
              "  <style>\n",
              "    .colab-df-container {\n",
              "      display:flex;\n",
              "      flex-wrap:wrap;\n",
              "      gap: 12px;\n",
              "    }\n",
              "\n",
              "    .colab-df-convert {\n",
              "      background-color: #E8F0FE;\n",
              "      border: none;\n",
              "      border-radius: 50%;\n",
              "      cursor: pointer;\n",
              "      display: none;\n",
              "      fill: #1967D2;\n",
              "      height: 32px;\n",
              "      padding: 0 0 0 0;\n",
              "      width: 32px;\n",
              "    }\n",
              "\n",
              "    .colab-df-convert:hover {\n",
              "      background-color: #E2EBFA;\n",
              "      box-shadow: 0px 1px 2px rgba(60, 64, 67, 0.3), 0px 1px 3px 1px rgba(60, 64, 67, 0.15);\n",
              "      fill: #174EA6;\n",
              "    }\n",
              "\n",
              "    [theme=dark] .colab-df-convert {\n",
              "      background-color: #3B4455;\n",
              "      fill: #D2E3FC;\n",
              "    }\n",
              "\n",
              "    [theme=dark] .colab-df-convert:hover {\n",
              "      background-color: #434B5C;\n",
              "      box-shadow: 0px 1px 3px 1px rgba(0, 0, 0, 0.15);\n",
              "      filter: drop-shadow(0px 1px 2px rgba(0, 0, 0, 0.3));\n",
              "      fill: #FFFFFF;\n",
              "    }\n",
              "  </style>\n",
              "\n",
              "      <script>\n",
              "        const buttonEl =\n",
              "          document.querySelector('#df-5ee746a6-320e-497b-a561-bf927c08f5a7 button.colab-df-convert');\n",
              "        buttonEl.style.display =\n",
              "          google.colab.kernel.accessAllowed ? 'block' : 'none';\n",
              "\n",
              "        async function convertToInteractive(key) {\n",
              "          const element = document.querySelector('#df-5ee746a6-320e-497b-a561-bf927c08f5a7');\n",
              "          const dataTable =\n",
              "            await google.colab.kernel.invokeFunction('convertToInteractive',\n",
              "                                                     [key], {});\n",
              "          if (!dataTable) return;\n",
              "\n",
              "          const docLinkHtml = 'Like what you see? Visit the ' +\n",
              "            '<a target=\"_blank\" href=https://colab.research.google.com/notebooks/data_table.ipynb>data table notebook</a>'\n",
              "            + ' to learn more about interactive tables.';\n",
              "          element.innerHTML = '';\n",
              "          dataTable['output_type'] = 'display_data';\n",
              "          await google.colab.output.renderOutput(dataTable, element);\n",
              "          const docLink = document.createElement('div');\n",
              "          docLink.innerHTML = docLinkHtml;\n",
              "          element.appendChild(docLink);\n",
              "        }\n",
              "      </script>\n",
              "    </div>\n",
              "  </div>\n",
              "  "
            ]
          },
          "metadata": {},
          "execution_count": 241
        }
      ]
    },
    {
      "cell_type": "code",
      "source": [
        "tweets = np.array(data['text'])\n",
        "sentiments = np.array(data['sentiment'])"
      ],
      "metadata": {
        "id": "Uf2VKpsZYFin"
      },
      "execution_count": 242,
      "outputs": []
    },
    {
      "cell_type": "code",
      "source": [
        "train_size = int(len(data) * 0.6)\n",
        "test_size = len(data) - train_size\n",
        "\n",
        "train_tweets, test_tweets = tweets[:train_size], tweets[train_size:len(data)]\n",
        "train_sentiments, test_sentiments = sentiments[:train_size], sentiments[train_size:len(data)]"
      ],
      "metadata": {
        "id": "nbaVha3LYelK"
      },
      "execution_count": 243,
      "outputs": []
    },
    {
      "cell_type": "markdown",
      "source": [
        "## Tokenization\n",
        "This tokenizer is a simple white-space based method to break each tweet into individual words. In a future version of this project, I'd like to implement stemming or lemmatization with the NLTK package. Lemmatization removes all of the suffixes, prefixes, and morphological changes for each word. Stemming would just output the root word for every word in each tweet. Lemmatization uses dictionary look ups to find relationships between words. For example, The word \"better\" has \"good\" as its lemma.\n",
        "\n",
        "Sources:\n",
        "https://alvinntnu.github.io/python-notes/nlp/sentiment-analysis-dl.html\n",
        "\n",
        "https://www.holisticseo.digital/python-seo/nltk/tokenization"
      ],
      "metadata": {
        "id": "CoD-EpxZM2ED"
      }
    },
    {
      "cell_type": "code",
      "source": [
        "tokenizer = ToktokTokenizer()\n",
        "\n",
        "le = LabelEncoder()\n",
        "num_classes=3\n",
        "# tokenize train reviews & encode train labels\n",
        "tokenized_train = [tokenizer.tokenize(text)\n",
        "                   for text in train_tweets]\n",
        "y_tr = le.fit_transform(train_sentiments)\n",
        "y_tr\n",
        "y_train = keras.utils.to_categorical(y_tr, num_classes)\n",
        "\n",
        "# tokenize test reviews & encode test labels\n",
        "tokenized_test = [tokenizer.tokenize(text)\n",
        "                   for text in test_tweets]\n",
        "y_ts = le.fit_transform(test_sentiments)\n",
        "y_test = keras.utils.to_categorical(y_ts, num_classes)"
      ],
      "metadata": {
        "id": "30B17FFUZow9"
      },
      "execution_count": 244,
      "outputs": []
    },
    {
      "cell_type": "code",
      "source": [
        "train_tweets[1]"
      ],
      "metadata": {
        "colab": {
          "base_uri": "https://localhost:8080/",
          "height": 36
        },
        "id": "dxvKz0-rNS2t",
        "outputId": "c23e06af-993e-44f9-dc5a-79602e078495"
      },
      "execution_count": 245,
      "outputs": [
        {
          "output_type": "execute_result",
          "data": {
            "text/plain": [
              "'$CCL $RCL - Nomura points bookings weakness Carnival Royal Caribbean '"
            ],
            "application/vnd.google.colaboratory.intrinsic+json": {
              "type": "string"
            }
          },
          "metadata": {},
          "execution_count": 245
        }
      ]
    },
    {
      "cell_type": "code",
      "source": [
        "tokenized_train[1]"
      ],
      "metadata": {
        "colab": {
          "base_uri": "https://localhost:8080/"
        },
        "id": "-tWXpkatM3JW",
        "outputId": "b021283a-b952-4633-d98c-730d906cf0b0"
      },
      "execution_count": 246,
      "outputs": [
        {
          "output_type": "execute_result",
          "data": {
            "text/plain": [
              "['$',\n",
              " 'CCL',\n",
              " '$',\n",
              " 'RCL',\n",
              " '-',\n",
              " 'Nomura',\n",
              " 'points',\n",
              " 'bookings',\n",
              " 'weakness',\n",
              " 'Carnival',\n",
              " 'Royal',\n",
              " 'Caribbean']"
            ]
          },
          "metadata": {},
          "execution_count": 246
        }
      ]
    },
    {
      "cell_type": "markdown",
      "source": [
        "## Training Word Embeddings\n",
        "This is a dimension reduction technique (often used with short-form text) that turns each tweet into a numeric representation of a set number of features. I chose 500 features, so there is an array of 500 numbers that represents each tweet.\n",
        "\n",
        "Source: https://alvinntnu.github.io/python-notes/nlp/sentiment-analysis-dl.html"
      ],
      "metadata": {
        "id": "WBEH39rCSCRf"
      }
    },
    {
      "cell_type": "code",
      "source": [
        "def averaged_word2vec_vectorizer(corpus, model, num_features):\n",
        "    vocabulary = set(model.wv.index_to_key)\n",
        "\n",
        "    def average_word_vectors(words, model, vocabulary, num_features):\n",
        "        feature_vector = np.zeros((num_features,), dtype=\"float64\")\n",
        "        nwords = 0.\n",
        "\n",
        "        for word in words:\n",
        "            if word in vocabulary:\n",
        "                nwords = nwords + 1.\n",
        "                feature_vector = np.add(feature_vector, model.wv[word])\n",
        "        if nwords:\n",
        "            feature_vector = np.divide(feature_vector, nwords)\n",
        "\n",
        "        return feature_vector\n",
        "\n",
        "    features = [average_word_vectors(tokenized_sentence, model, vocabulary, num_features)\n",
        "                    for tokenized_sentence in corpus]\n",
        "    return np.array(features)"
      ],
      "metadata": {
        "id": "4NQeMEjQsNge"
      },
      "execution_count": 247,
      "outputs": []
    },
    {
      "cell_type": "code",
      "source": [
        "# build word2vec model\n",
        "w2v_num_features = 500\n",
        "w2v_model = gensim.models.Word2Vec(tokenized_train,\n",
        "                                   vector_size=w2v_num_features, window=150,\n",
        "                                   min_count=10, sample=1e-3, workers=16)\n",
        "\n",
        "## takes 5mins"
      ],
      "metadata": {
        "id": "JPWLTy9msdXN"
      },
      "execution_count": 248,
      "outputs": []
    },
    {
      "cell_type": "code",
      "source": [
        "# generate averaged word vector features from word2vec model\n",
        "avg_wv_train_features = averaged_word2vec_vectorizer(corpus=tokenized_train, model=w2v_model,\n",
        "                                                     num_features=w2v_num_features)\n",
        "avg_wv_test_features = averaged_word2vec_vectorizer(corpus=tokenized_test, model=w2v_model,\n",
        "                                                    num_features=w2v_num_features)"
      ],
      "metadata": {
        "id": "A_M6cOkysvTH"
      },
      "execution_count": 249,
      "outputs": []
    },
    {
      "cell_type": "markdown",
      "source": [
        "# Keras Classifier - Specification and Fitting"
      ],
      "metadata": {
        "id": "SNvv4oSXTQrI"
      }
    },
    {
      "cell_type": "code",
      "source": [
        "def build_classifier():   #one of the parameter for KerasClassifier\n",
        "    classifier = Sequential() #initialising ANN by defining sequence of layers\n",
        "    classifier.add(Dense(250, input_shape=(500,), activation='relu'))\n",
        "    classifier.add(Dense(3, activation='sigmoid'))\n",
        "    #compiling the ANN\n",
        "    classifier.compile(optimizer = 'adam',loss = 'binary_crossentropy',metrics=['accuracy'])\n",
        "    return classifier"
      ],
      "metadata": {
        "id": "zAXl9pqBk5Qc"
      },
      "execution_count": 250,
      "outputs": []
    },
    {
      "cell_type": "code",
      "source": [
        "model = KerasClassifier(build_fn = build_classifier,nb_epoch = 10,batch_size=10)\n",
        "model.fit(avg_wv_train_features, y_train, epochs=1000, batch_size=10,\n",
        "            shuffle=True, validation_split=0.1, verbose=0)"
      ],
      "metadata": {
        "colab": {
          "base_uri": "https://localhost:8080/"
        },
        "id": "_LBCFptr1fIv",
        "outputId": "adc534cb-1b5f-4f0c-f25d-b09c6ec832b5"
      },
      "execution_count": 251,
      "outputs": [
        {
          "output_type": "stream",
          "name": "stderr",
          "text": [
            "<ipython-input-251-67d3651256c6>:1: DeprecationWarning: KerasClassifier is deprecated, use Sci-Keras (https://github.com/adriangb/scikeras) instead. See https://www.adriangb.com/scikeras/stable/migration.html for help migrating.\n",
            "  model = KerasClassifier(build_fn = build_classifier,nb_epoch = 10,batch_size=10)\n"
          ]
        },
        {
          "output_type": "execute_result",
          "data": {
            "text/plain": [
              "<keras.callbacks.History at 0x7fb3b8789bd0>"
            ]
          },
          "metadata": {},
          "execution_count": 251
        }
      ]
    },
    {
      "cell_type": "markdown",
      "source": [
        "# Performance Metric Functions"
      ],
      "metadata": {
        "id": "J-vuSlUGTW4p"
      }
    },
    {
      "cell_type": "code",
      "source": [
        "# functions from Text Analytics with Python book\n",
        "def get_metrics(true_labels, predicted_labels):\n",
        "\n",
        "    print('Accuracy:', np.round(\n",
        "                        metrics.accuracy_score(true_labels,\n",
        "                                               predicted_labels),\n",
        "                        4))\n",
        "    print('Precision:', np.round(\n",
        "                        metrics.precision_score(true_labels,\n",
        "                                               predicted_labels,\n",
        "                                               average='weighted'),\n",
        "                        4))\n",
        "    print('Recall:', np.round(\n",
        "                        metrics.recall_score(true_labels,\n",
        "                                               predicted_labels,\n",
        "                                               average='weighted'),\n",
        "                        4))\n",
        "    print('F1 Score:', np.round(\n",
        "                        metrics.f1_score(true_labels,\n",
        "                                               predicted_labels,\n",
        "                                               average='weighted'),\n",
        "                        4))\n",
        "\n",
        "def display_confusion_matrix(true_labels, predicted_labels, classes=[0,1,2]):\n",
        "\n",
        "    total_classes = len(classes)\n",
        "    level_labels = [total_classes*[0], list(range(total_classes))]\n",
        "\n",
        "    cm = metrics.confusion_matrix(y_true=true_labels, y_pred=predicted_labels,\n",
        "                                  labels=classes)\n",
        "    cm_frame = pd.DataFrame(data=cm,\n",
        "                            columns=pd.MultiIndex(levels=[['Predicted:'], classes],\n",
        "                                                  codes=level_labels),\n",
        "                            index=pd.MultiIndex(levels=[['Actual:'], classes],\n",
        "                                                codes=level_labels))\n",
        "    print(cm_frame)\n",
        "\n",
        "def display_classification_report(true_labels, predicted_labels, classes=[0,1,2]):\n",
        "\n",
        "    report = metrics.classification_report(y_true=true_labels,\n",
        "                                           y_pred=predicted_labels,\n",
        "                                           labels=classes)\n",
        "    print(report)\n",
        "\n",
        "\n",
        "\n",
        "def display_model_performance_metrics(true_labels, predicted_labels, classes=[0,1,2]):\n",
        "    print('Model Performance metrics:')\n",
        "    print('-'*30)\n",
        "    get_metrics(true_labels=true_labels, predicted_labels=predicted_labels)\n",
        "    print('\\nModel Classification report:')\n",
        "    print('-'*30)\n",
        "    display_classification_report(true_labels=true_labels, predicted_labels=predicted_labels,classes=classes)\n",
        "    print('\\nPrediction Confusion Matrix:')\n",
        "    print('-'*30)\n",
        "    display_confusion_matrix(true_labels=true_labels, predicted_labels=predicted_labels,classes=classes)\n",
        "\n",
        "def plot_confusion_matrix(y_true, y_pred, classes,\n",
        "                          normalize=False,\n",
        "                          title=None,\n",
        "                          cmap=plt.cm.Blues):\n",
        "    \"\"\"\n",
        "    This function prints and plots the confusion matrix.\n",
        "    Normalization can be applied by setting `normalize=True`.\n",
        "    \"\"\"\n",
        "    if not title:\n",
        "        if normalize:\n",
        "            title = 'Normalized confusion matrix'\n",
        "        else:\n",
        "            title = 'Confusion matrix, without normalization'\n",
        "\n",
        "    # Compute confusion matrix\n",
        "    cm = confusion_matrix(y_true, y_pred)\n",
        "    # Only use the labels that appear in the data\n",
        "    #classes = classes[unique_labels(y_true, y_pred)]\n",
        "    if normalize:\n",
        "        cm = cm.astype('float') / cm.sum(axis=1)[:, np.newaxis]\n",
        "        print(\"Normalized confusion matrix\")\n",
        "    else:\n",
        "        print('Confusion matrix, without normalization')\n",
        "\n",
        "    print(cm)\n",
        "\n",
        "    fig, ax = plt.subplots()\n",
        "    im = ax.imshow(cm, interpolation='nearest', cmap=cmap)\n",
        "    ax.figure.colorbar(im, ax=ax)\n",
        "    # We want to show all ticks...\n",
        "    ax.set(xticks=np.arange(cm.shape[1]),\n",
        "           yticks=np.arange(cm.shape[0]),\n",
        "           # ... and label them with the respective list entries\n",
        "           xticklabels=classes, yticklabels=classes,\n",
        "           title=title,\n",
        "           ylabel='True label',\n",
        "           xlabel='Predicted label')\n",
        "\n",
        "    # Rotate the tick labels and set their alignment.\n",
        "    plt.setp(ax.get_xticklabels(), rotation=45, ha=\"right\",\n",
        "             rotation_mode=\"anchor\")\n",
        "\n",
        "    # Loop over data dimensions and create text annotations.\n",
        "    fmt = '.2f' if normalize else 'd'\n",
        "    thresh = cm.max() / 2.\n",
        "    for i in range(cm.shape[0]):\n",
        "        for j in range(cm.shape[1]):\n",
        "            ax.text(j, i, format(cm[i, j], fmt),\n",
        "                    ha=\"center\", va=\"center\",\n",
        "                    color=\"white\" if cm[i, j] > thresh else \"black\")\n",
        "    fig.tight_layout()\n",
        "    return ax\n"
      ],
      "metadata": {
        "id": "SVPYnR7td0Mm"
      },
      "execution_count": 252,
      "outputs": []
    },
    {
      "cell_type": "markdown",
      "source": [
        "## Predictions"
      ],
      "metadata": {
        "id": "WXw2M20HTa95"
      }
    },
    {
      "cell_type": "code",
      "source": [
        "y_pred = model.predict(avg_wv_test_features)\n",
        "predictions = le.inverse_transform(y_pred)"
      ],
      "metadata": {
        "colab": {
          "base_uri": "https://localhost:8080/"
        },
        "id": "4_37yt_Dje32",
        "outputId": "4ebe5181-e057-4b24-b10a-366d47e0d823"
      },
      "execution_count": 253,
      "outputs": [
        {
          "output_type": "stream",
          "name": "stdout",
          "text": [
            "150/150 [==============================] - 0s 2ms/step\n"
          ]
        }
      ]
    },
    {
      "cell_type": "markdown",
      "source": [
        "View results dataframe as a gut check to spot-check and see if the model's classification make sense. In most cases, the predicted sentiments seem to make sense. Though, the overwhelming majority of sentiments are \"neutral\"."
      ],
      "metadata": {
        "id": "XaZ_Ub9YG-0X"
      }
    },
    {
      "cell_type": "code",
      "source": [
        "pd.concat([pd.Series(test_tweets),pd.Series(predictions)],axis=1)"
      ],
      "metadata": {
        "colab": {
          "base_uri": "https://localhost:8080/",
          "height": 423
        },
        "id": "2SmqhitMGJzR",
        "outputId": "5a8fefb1-6b22-4f0e-b0d8-da1fe1d795dd"
      },
      "execution_count": 254,
      "outputs": [
        {
          "output_type": "execute_result",
          "data": {
            "text/plain": [
              "                                                      0        1\n",
              "0     Boris Johnson Jeremy Corbyn go head--head fina...  neutral\n",
              "1     Boris Johnson Jeremy Corbyn radically differen...  neutral\n",
              "2     Boris Johnson Cancels 2020 Tax Cut Businesses:...  neutral\n",
              "3     Boris Johnson heading clear victory next week’...  neutral\n",
              "4     Boris Johnson postpones plans cut corporate taxes  neutral\n",
              "...                                                 ...      ...\n",
              "4768  Stocks making biggest moves midday: TD Ameritr...  neutral\n",
              "4769  Stocks making biggest moves premarket: Fitbit,...  neutral\n",
              "4770  Stocks making biggest moves premarket: Home De...  neutral\n",
              "4771  Stocks making biggest moves premarket: TD Amer...  neutral\n",
              "4772             TCO, NNVC, GPOR JE among midday movers  neutral\n",
              "\n",
              "[4773 rows x 2 columns]"
            ],
            "text/html": [
              "\n",
              "  <div id=\"df-1a9707a1-dcf2-4098-965d-9dfd3e0d3864\">\n",
              "    <div class=\"colab-df-container\">\n",
              "      <div>\n",
              "<style scoped>\n",
              "    .dataframe tbody tr th:only-of-type {\n",
              "        vertical-align: middle;\n",
              "    }\n",
              "\n",
              "    .dataframe tbody tr th {\n",
              "        vertical-align: top;\n",
              "    }\n",
              "\n",
              "    .dataframe thead th {\n",
              "        text-align: right;\n",
              "    }\n",
              "</style>\n",
              "<table border=\"1\" class=\"dataframe\">\n",
              "  <thead>\n",
              "    <tr style=\"text-align: right;\">\n",
              "      <th></th>\n",
              "      <th>0</th>\n",
              "      <th>1</th>\n",
              "    </tr>\n",
              "  </thead>\n",
              "  <tbody>\n",
              "    <tr>\n",
              "      <th>0</th>\n",
              "      <td>Boris Johnson Jeremy Corbyn go head--head fina...</td>\n",
              "      <td>neutral</td>\n",
              "    </tr>\n",
              "    <tr>\n",
              "      <th>1</th>\n",
              "      <td>Boris Johnson Jeremy Corbyn radically differen...</td>\n",
              "      <td>neutral</td>\n",
              "    </tr>\n",
              "    <tr>\n",
              "      <th>2</th>\n",
              "      <td>Boris Johnson Cancels 2020 Tax Cut Businesses:...</td>\n",
              "      <td>neutral</td>\n",
              "    </tr>\n",
              "    <tr>\n",
              "      <th>3</th>\n",
              "      <td>Boris Johnson heading clear victory next week’...</td>\n",
              "      <td>neutral</td>\n",
              "    </tr>\n",
              "    <tr>\n",
              "      <th>4</th>\n",
              "      <td>Boris Johnson postpones plans cut corporate taxes</td>\n",
              "      <td>neutral</td>\n",
              "    </tr>\n",
              "    <tr>\n",
              "      <th>...</th>\n",
              "      <td>...</td>\n",
              "      <td>...</td>\n",
              "    </tr>\n",
              "    <tr>\n",
              "      <th>4768</th>\n",
              "      <td>Stocks making biggest moves midday: TD Ameritr...</td>\n",
              "      <td>neutral</td>\n",
              "    </tr>\n",
              "    <tr>\n",
              "      <th>4769</th>\n",
              "      <td>Stocks making biggest moves premarket: Fitbit,...</td>\n",
              "      <td>neutral</td>\n",
              "    </tr>\n",
              "    <tr>\n",
              "      <th>4770</th>\n",
              "      <td>Stocks making biggest moves premarket: Home De...</td>\n",
              "      <td>neutral</td>\n",
              "    </tr>\n",
              "    <tr>\n",
              "      <th>4771</th>\n",
              "      <td>Stocks making biggest moves premarket: TD Amer...</td>\n",
              "      <td>neutral</td>\n",
              "    </tr>\n",
              "    <tr>\n",
              "      <th>4772</th>\n",
              "      <td>TCO, NNVC, GPOR JE among midday movers</td>\n",
              "      <td>neutral</td>\n",
              "    </tr>\n",
              "  </tbody>\n",
              "</table>\n",
              "<p>4773 rows × 2 columns</p>\n",
              "</div>\n",
              "      <button class=\"colab-df-convert\" onclick=\"convertToInteractive('df-1a9707a1-dcf2-4098-965d-9dfd3e0d3864')\"\n",
              "              title=\"Convert this dataframe to an interactive table.\"\n",
              "              style=\"display:none;\">\n",
              "        \n",
              "  <svg xmlns=\"http://www.w3.org/2000/svg\" height=\"24px\"viewBox=\"0 0 24 24\"\n",
              "       width=\"24px\">\n",
              "    <path d=\"M0 0h24v24H0V0z\" fill=\"none\"/>\n",
              "    <path d=\"M18.56 5.44l.94 2.06.94-2.06 2.06-.94-2.06-.94-.94-2.06-.94 2.06-2.06.94zm-11 1L8.5 8.5l.94-2.06 2.06-.94-2.06-.94L8.5 2.5l-.94 2.06-2.06.94zm10 10l.94 2.06.94-2.06 2.06-.94-2.06-.94-.94-2.06-.94 2.06-2.06.94z\"/><path d=\"M17.41 7.96l-1.37-1.37c-.4-.4-.92-.59-1.43-.59-.52 0-1.04.2-1.43.59L10.3 9.45l-7.72 7.72c-.78.78-.78 2.05 0 2.83L4 21.41c.39.39.9.59 1.41.59.51 0 1.02-.2 1.41-.59l7.78-7.78 2.81-2.81c.8-.78.8-2.07 0-2.86zM5.41 20L4 18.59l7.72-7.72 1.47 1.35L5.41 20z\"/>\n",
              "  </svg>\n",
              "      </button>\n",
              "      \n",
              "  <style>\n",
              "    .colab-df-container {\n",
              "      display:flex;\n",
              "      flex-wrap:wrap;\n",
              "      gap: 12px;\n",
              "    }\n",
              "\n",
              "    .colab-df-convert {\n",
              "      background-color: #E8F0FE;\n",
              "      border: none;\n",
              "      border-radius: 50%;\n",
              "      cursor: pointer;\n",
              "      display: none;\n",
              "      fill: #1967D2;\n",
              "      height: 32px;\n",
              "      padding: 0 0 0 0;\n",
              "      width: 32px;\n",
              "    }\n",
              "\n",
              "    .colab-df-convert:hover {\n",
              "      background-color: #E2EBFA;\n",
              "      box-shadow: 0px 1px 2px rgba(60, 64, 67, 0.3), 0px 1px 3px 1px rgba(60, 64, 67, 0.15);\n",
              "      fill: #174EA6;\n",
              "    }\n",
              "\n",
              "    [theme=dark] .colab-df-convert {\n",
              "      background-color: #3B4455;\n",
              "      fill: #D2E3FC;\n",
              "    }\n",
              "\n",
              "    [theme=dark] .colab-df-convert:hover {\n",
              "      background-color: #434B5C;\n",
              "      box-shadow: 0px 1px 3px 1px rgba(0, 0, 0, 0.15);\n",
              "      filter: drop-shadow(0px 1px 2px rgba(0, 0, 0, 0.3));\n",
              "      fill: #FFFFFF;\n",
              "    }\n",
              "  </style>\n",
              "\n",
              "      <script>\n",
              "        const buttonEl =\n",
              "          document.querySelector('#df-1a9707a1-dcf2-4098-965d-9dfd3e0d3864 button.colab-df-convert');\n",
              "        buttonEl.style.display =\n",
              "          google.colab.kernel.accessAllowed ? 'block' : 'none';\n",
              "\n",
              "        async function convertToInteractive(key) {\n",
              "          const element = document.querySelector('#df-1a9707a1-dcf2-4098-965d-9dfd3e0d3864');\n",
              "          const dataTable =\n",
              "            await google.colab.kernel.invokeFunction('convertToInteractive',\n",
              "                                                     [key], {});\n",
              "          if (!dataTable) return;\n",
              "\n",
              "          const docLinkHtml = 'Like what you see? Visit the ' +\n",
              "            '<a target=\"_blank\" href=https://colab.research.google.com/notebooks/data_table.ipynb>data table notebook</a>'\n",
              "            + ' to learn more about interactive tables.';\n",
              "          element.innerHTML = '';\n",
              "          dataTable['output_type'] = 'display_data';\n",
              "          await google.colab.output.renderOutput(dataTable, element);\n",
              "          const docLink = document.createElement('div');\n",
              "          docLink.innerHTML = docLinkHtml;\n",
              "          element.appendChild(docLink);\n",
              "        }\n",
              "      </script>\n",
              "    </div>\n",
              "  </div>\n",
              "  "
            ]
          },
          "metadata": {},
          "execution_count": 254
        }
      ]
    },
    {
      "cell_type": "markdown",
      "source": [
        "# Results\n",
        "The dataset is unbalanced and negative sentiments are the most common.The model is able to correctly classify negatives 99% of the time, neutrals 10% of the time, and positives 6% of the time. Records were most commonly misclassified at negatives. This is interesting because the majority of our training set tweets had a neutral sentiment. There may be more nuance and context needed for classifying positive and neutral tweets. For example, \"Tesla' stock falls , extends pullback 22%\" in our training set is classied as neutral. Some of the words in this tweet could be percieved as negative sentiments. We're also training the model based on the subjective views of the labeler.\n",
        "\n",
        "Overall, we're able to achieve an accuracy of 64%. This is not as impressive as the 87.5% accuracy achieved by the sparse transformer technique from the blog post we referenced earlier. However, considering that we are working with a very simple neural network and a relatively small dataset, this seems promising. If we had a larger dataset and more balanced classes, perhaps the neural network would be able to perform better. This project helped me understand the importance of creating a diverse training set and the painstaking nature of labeling and preprocessing steps in machine learning projects."
      ],
      "metadata": {
        "id": "YZu8KQ61whjX"
      }
    },
    {
      "cell_type": "code",
      "source": [
        "plot_confusion_matrix(test_sentiments, predictions, classes=[\"positive\",\"negative\",\"neutral\"], normalize= False,  title='Confusion matrix')\n"
      ],
      "metadata": {
        "colab": {
          "base_uri": "https://localhost:8080/",
          "height": 578
        },
        "id": "lHm8Ax3EEauC",
        "outputId": "a9c56e17-b43f-47d2-e1a2-0994d4bdad20"
      },
      "execution_count": 255,
      "outputs": [
        {
          "output_type": "stream",
          "name": "stdout",
          "text": [
            "Confusion matrix, without normalization\n",
            "[[  40  583   51]\n",
            " [   9 2906   17]\n",
            " [  29 1018  120]]\n"
          ]
        },
        {
          "output_type": "execute_result",
          "data": {
            "text/plain": [
              "<Axes: title={'center': 'Confusion matrix'}, xlabel='Predicted label', ylabel='True label'>"
            ]
          },
          "metadata": {},
          "execution_count": 255
        },
        {
          "output_type": "display_data",
          "data": {
            "text/plain": [
              "<Figure size 640x480 with 2 Axes>"
            ],
            "image/png": "[encoded data removed]"
          },
          "metadata": {}
        }
      ]
    },
    {
      "cell_type": "code",
      "source": [
        "display_model_performance_metrics(true_labels=test_sentiments, predicted_labels=predictions,classes=[\"positive\",\"negative\",\"neutral\"])"
      ],
      "metadata": {
        "colab": {
          "base_uri": "https://localhost:8080/"
        },
        "id": "wPhZg0qxeHi4",
        "outputId": "5e8c6997-6b65-46f8-8005-2cf6c40a0888"
      },
      "execution_count": 256,
      "outputs": [
        {
          "output_type": "stream",
          "name": "stdout",
          "text": [
            "Model Performance metrics:\n",
            "------------------------------\n",
            "Accuracy: 0.6424\n",
            "Precision: 0.6246\n",
            "Recall: 0.6424\n",
            "F1 Score: 0.5383\n",
            "\n",
            "Model Classification report:\n",
            "------------------------------\n",
            "              precision    recall  f1-score   support\n",
            "\n",
            "    positive       0.64      0.10      0.18      1167\n",
            "    negative       0.51      0.06      0.11       674\n",
            "     neutral       0.64      0.99      0.78      2932\n",
            "\n",
            "    accuracy                           0.64      4773\n",
            "   macro avg       0.60      0.38      0.35      4773\n",
            "weighted avg       0.62      0.64      0.54      4773\n",
            "\n",
            "\n",
            "Prediction Confusion Matrix:\n",
            "------------------------------\n",
            "                 Predicted:                 \n",
            "                   positive negative neutral\n",
            "Actual: positive        120       29    1018\n",
            "        negative         51       40     583\n",
            "        neutral          17        9    2906\n"
          ]
        }
      ]
    }
  ]
}